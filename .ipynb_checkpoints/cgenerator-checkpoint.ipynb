{
 "cells": [
  {
   "cell_type": "code",
   "execution_count": 9,
   "metadata": {},
   "outputs": [
    {
     "name": "stdout",
     "output_type": "stream",
     "text": [
      "Enter name of the Company : test\n",
      "Enter name of the Position: test13e08\n"
     ]
    }
   ],
   "source": [
    "from docxtpl import DocxTemplate\n",
    "import datetime\n",
    "\n",
    "\n",
    "company_name = input(\"Enter name of the Company : \") \n",
    "position_name = input(\"Enter name of the Position: \")\n",
    "\n",
    "\n",
    "today_date = datetime.datetime.today().strftime('%m/%d/%Y')\n",
    "\n",
    "doc = DocxTemplate(\"master_cover_letter.docx\")\n",
    "context = { 'today_date': today_date, \n",
    "           'company_name' : company_name, \n",
    "           'position_name' : position_name}\n",
    "\n",
    "doc.render(context)\n",
    "\n",
    "doc.save('Cover_letter_'+company_name+'_'+position_name+'.docx')"
   ]
  },
  {
   "cell_type": "code",
   "execution_count": null,
   "metadata": {},
   "outputs": [],
   "source": []
  }
 ],
 "metadata": {
  "kernelspec": {
   "display_name": "Python 3",
   "language": "python",
   "name": "python3"
  },
  "language_info": {
   "codemirror_mode": {
    "name": "ipython",
    "version": 3
   },
   "file_extension": ".py",
   "mimetype": "text/x-python",
   "name": "python",
   "nbconvert_exporter": "python",
   "pygments_lexer": "ipython3",
   "version": "3.7.3"
  }
 },
 "nbformat": 4,
 "nbformat_minor": 2
}
